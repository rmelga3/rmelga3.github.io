{
 "cells": [
  {
   "cell_type": "code",
   "execution_count": 2,
   "id": "07402ef3",
   "metadata": {},
   "outputs": [],
   "source": [
    "import matplotlib.pyplot as plt\n",
    "import numpy as np\n",
    "import pandas as pd\n",
    "# newest library\n",
    "import ipywidgets"
   ]
  },
  {
   "cell_type": "code",
   "execution_count": 3,
   "id": "e2cc0e8b",
   "metadata": {},
   "outputs": [],
   "source": [
    "ufos = pd.read_csv(\"https://github.com/UIUC-iSchool-DataViz/is445_AOUAOG_fall2021/raw/master/week05/data/ufo-scrubbed-geocoded-time-standardized-00.csv\",\n",
    "                  names = [\"date\", \"city\", \"state\", \"country\",\n",
    "                          \"shape\", \"duration_seconds\", \"duration\",\n",
    "                          \"comment\", \"report_date\", \"latitude\", \"longitude\"],\n",
    "                  parse_dates = [\"date\", \"report_date\"])"
   ]
  },
  {
   "cell_type": "code",
   "execution_count": 4,
   "id": "154759e0",
   "metadata": {},
   "outputs": [],
   "source": [
    "ufos = ufos.fillna({'country':'unknown','state':'unknown', 'shape':'unknown'})"
   ]
  },
  {
   "cell_type": "code",
   "execution_count": 5,
   "id": "b4c23ab2",
   "metadata": {
    "scrolled": false
   },
   "outputs": [
    {
     "data": {
      "text/html": [
       "<div>\n",
       "<style scoped>\n",
       "    .dataframe tbody tr th:only-of-type {\n",
       "        vertical-align: middle;\n",
       "    }\n",
       "\n",
       "    .dataframe tbody tr th {\n",
       "        vertical-align: top;\n",
       "    }\n",
       "\n",
       "    .dataframe thead th {\n",
       "        text-align: right;\n",
       "    }\n",
       "</style>\n",
       "<table border=\"1\" class=\"dataframe\">\n",
       "  <thead>\n",
       "    <tr style=\"text-align: right;\">\n",
       "      <th></th>\n",
       "      <th>date</th>\n",
       "      <th>city</th>\n",
       "      <th>state</th>\n",
       "      <th>country</th>\n",
       "      <th>shape</th>\n",
       "      <th>duration_seconds</th>\n",
       "      <th>duration</th>\n",
       "      <th>comment</th>\n",
       "      <th>report_date</th>\n",
       "      <th>latitude</th>\n",
       "      <th>longitude</th>\n",
       "    </tr>\n",
       "  </thead>\n",
       "  <tbody>\n",
       "    <tr>\n",
       "      <th>52509</th>\n",
       "      <td>2010-06-29 23:30:00</td>\n",
       "      <td>salina</td>\n",
       "      <td>ks</td>\n",
       "      <td>us</td>\n",
       "      <td>light</td>\n",
       "      <td>3600.0</td>\n",
       "      <td>1 hour</td>\n",
       "      <td>Flashing red light in south western sky emits ...</td>\n",
       "      <td>2010-07-06</td>\n",
       "      <td>38.840278</td>\n",
       "      <td>-97.611111</td>\n",
       "    </tr>\n",
       "    <tr>\n",
       "      <th>27850</th>\n",
       "      <td>2002-02-02 22:00:00</td>\n",
       "      <td>st. cloud</td>\n",
       "      <td>fl</td>\n",
       "      <td>us</td>\n",
       "      <td>formation</td>\n",
       "      <td>900.0</td>\n",
       "      <td>15 mins</td>\n",
       "      <td>11 lights in the sky that were stationary</td>\n",
       "      <td>2002-02-22</td>\n",
       "      <td>28.248611</td>\n",
       "      <td>-81.281389</td>\n",
       "    </tr>\n",
       "    <tr>\n",
       "      <th>15636</th>\n",
       "      <td>2004-11-07 16:50:00</td>\n",
       "      <td>swiss</td>\n",
       "      <td>mo</td>\n",
       "      <td>us</td>\n",
       "      <td>teardrop</td>\n",
       "      <td>2100.0</td>\n",
       "      <td>35 minutes</td>\n",
       "      <td>Four of us saw a long term 30 minute daylight ...</td>\n",
       "      <td>2004-11-09</td>\n",
       "      <td>38.562778</td>\n",
       "      <td>-91.471111</td>\n",
       "    </tr>\n",
       "    <tr>\n",
       "      <th>42693</th>\n",
       "      <td>2013-05-15 23:15:00</td>\n",
       "      <td>peoria</td>\n",
       "      <td>az</td>\n",
       "      <td>us</td>\n",
       "      <td>light</td>\n",
       "      <td>300.0</td>\n",
       "      <td>5 minutes</td>\n",
       "      <td>Light Formation Seen Over West Wing Mountain&amp;#...</td>\n",
       "      <td>2013-06-02</td>\n",
       "      <td>33.580556</td>\n",
       "      <td>-112.236667</td>\n",
       "    </tr>\n",
       "    <tr>\n",
       "      <th>56929</th>\n",
       "      <td>2000-07-15 22:00:00</td>\n",
       "      <td>loves park</td>\n",
       "      <td>il</td>\n",
       "      <td>us</td>\n",
       "      <td>triangle</td>\n",
       "      <td>180.0</td>\n",
       "      <td>est 3 minutes</td>\n",
       "      <td>Trianglular object no sound flew over us as we...</td>\n",
       "      <td>2006-10-30</td>\n",
       "      <td>42.320000</td>\n",
       "      <td>-89.058056</td>\n",
       "    </tr>\n",
       "    <tr>\n",
       "      <th>...</th>\n",
       "      <td>...</td>\n",
       "      <td>...</td>\n",
       "      <td>...</td>\n",
       "      <td>...</td>\n",
       "      <td>...</td>\n",
       "      <td>...</td>\n",
       "      <td>...</td>\n",
       "      <td>...</td>\n",
       "      <td>...</td>\n",
       "      <td>...</td>\n",
       "      <td>...</td>\n",
       "    </tr>\n",
       "    <tr>\n",
       "      <th>72821</th>\n",
       "      <td>2001-09-10 21:30:00</td>\n",
       "      <td>arvada</td>\n",
       "      <td>co</td>\n",
       "      <td>us</td>\n",
       "      <td>diamond</td>\n",
       "      <td>90.0</td>\n",
       "      <td>1min 30 sec.</td>\n",
       "      <td>Bright oval/diamond shape object white and red...</td>\n",
       "      <td>2001-10-12</td>\n",
       "      <td>39.802778</td>\n",
       "      <td>-105.086944</td>\n",
       "    </tr>\n",
       "    <tr>\n",
       "      <th>75879</th>\n",
       "      <td>2009-09-19 19:55:00</td>\n",
       "      <td>newburgh</td>\n",
       "      <td>ny</td>\n",
       "      <td>us</td>\n",
       "      <td>cone</td>\n",
       "      <td>20.0</td>\n",
       "      <td>15-20 seconds</td>\n",
       "      <td>Unidentified light emmiting cone shaped object...</td>\n",
       "      <td>2009-12-12</td>\n",
       "      <td>41.503333</td>\n",
       "      <td>-74.010833</td>\n",
       "    </tr>\n",
       "    <tr>\n",
       "      <th>8608</th>\n",
       "      <td>2013-11-01 23:45:00</td>\n",
       "      <td>shillington</td>\n",
       "      <td>pa</td>\n",
       "      <td>us</td>\n",
       "      <td>light</td>\n",
       "      <td>1200.0</td>\n",
       "      <td>20 minutes</td>\n",
       "      <td>Fast bright blue and red light moving east to ...</td>\n",
       "      <td>2013-11-11</td>\n",
       "      <td>40.307778</td>\n",
       "      <td>-75.965833</td>\n",
       "    </tr>\n",
       "    <tr>\n",
       "      <th>76443</th>\n",
       "      <td>2010-09-21 08:32:00</td>\n",
       "      <td>cicero</td>\n",
       "      <td>ny</td>\n",
       "      <td>us</td>\n",
       "      <td>circle</td>\n",
       "      <td>1.0</td>\n",
       "      <td>1 second- less</td>\n",
       "      <td>Pulling into my devolpment&amp;#44 i see a strange...</td>\n",
       "      <td>2010-11-21</td>\n",
       "      <td>43.175556</td>\n",
       "      <td>-76.119722</td>\n",
       "    </tr>\n",
       "    <tr>\n",
       "      <th>7569</th>\n",
       "      <td>2010-01-10 14:00:00</td>\n",
       "      <td>cary</td>\n",
       "      <td>nc</td>\n",
       "      <td>us</td>\n",
       "      <td>changing</td>\n",
       "      <td>900.0</td>\n",
       "      <td>15 min</td>\n",
       "      <td>Object appears and hovers&amp;#44 strange maneuver...</td>\n",
       "      <td>2010-02-14</td>\n",
       "      <td>35.791389</td>\n",
       "      <td>-78.781389</td>\n",
       "    </tr>\n",
       "  </tbody>\n",
       "</table>\n",
       "<p>1000 rows × 11 columns</p>\n",
       "</div>"
      ],
      "text/plain": [
       "                     date         city state country      shape  \\\n",
       "52509 2010-06-29 23:30:00       salina    ks      us      light   \n",
       "27850 2002-02-02 22:00:00    st. cloud    fl      us  formation   \n",
       "15636 2004-11-07 16:50:00        swiss    mo      us   teardrop   \n",
       "42693 2013-05-15 23:15:00       peoria    az      us      light   \n",
       "56929 2000-07-15 22:00:00   loves park    il      us   triangle   \n",
       "...                   ...          ...   ...     ...        ...   \n",
       "72821 2001-09-10 21:30:00       arvada    co      us    diamond   \n",
       "75879 2009-09-19 19:55:00     newburgh    ny      us       cone   \n",
       "8608  2013-11-01 23:45:00  shillington    pa      us      light   \n",
       "76443 2010-09-21 08:32:00       cicero    ny      us     circle   \n",
       "7569  2010-01-10 14:00:00         cary    nc      us   changing   \n",
       "\n",
       "       duration_seconds        duration  \\\n",
       "52509            3600.0          1 hour   \n",
       "27850             900.0         15 mins   \n",
       "15636            2100.0      35 minutes   \n",
       "42693             300.0       5 minutes   \n",
       "56929             180.0   est 3 minutes   \n",
       "...                 ...             ...   \n",
       "72821              90.0    1min 30 sec.   \n",
       "75879              20.0   15-20 seconds   \n",
       "8608             1200.0      20 minutes   \n",
       "76443               1.0  1 second- less   \n",
       "7569              900.0          15 min   \n",
       "\n",
       "                                                 comment report_date  \\\n",
       "52509  Flashing red light in south western sky emits ...  2010-07-06   \n",
       "27850          11 lights in the sky that were stationary  2002-02-22   \n",
       "15636  Four of us saw a long term 30 minute daylight ...  2004-11-09   \n",
       "42693  Light Formation Seen Over West Wing Mountain&#...  2013-06-02   \n",
       "56929  Trianglular object no sound flew over us as we...  2006-10-30   \n",
       "...                                                  ...         ...   \n",
       "72821  Bright oval/diamond shape object white and red...  2001-10-12   \n",
       "75879  Unidentified light emmiting cone shaped object...  2009-12-12   \n",
       "8608   Fast bright blue and red light moving east to ...  2013-11-11   \n",
       "76443  Pulling into my devolpment&#44 i see a strange...  2010-11-21   \n",
       "7569   Object appears and hovers&#44 strange maneuver...  2010-02-14   \n",
       "\n",
       "        latitude   longitude  \n",
       "52509  38.840278  -97.611111  \n",
       "27850  28.248611  -81.281389  \n",
       "15636  38.562778  -91.471111  \n",
       "42693  33.580556 -112.236667  \n",
       "56929  42.320000  -89.058056  \n",
       "...          ...         ...  \n",
       "72821  39.802778 -105.086944  \n",
       "75879  41.503333  -74.010833  \n",
       "8608   40.307778  -75.965833  \n",
       "76443  43.175556  -76.119722  \n",
       "7569   35.791389  -78.781389  \n",
       "\n",
       "[1000 rows x 11 columns]"
      ]
     },
     "execution_count": 5,
     "metadata": {},
     "output_type": "execute_result"
    }
   ],
   "source": [
    "nsample = 1000\n",
    "downSampleMask = np.random.choice(range(len(ufos)), nsample, replace=False)\n",
    "ufosDS = ufos.loc[downSampleMask]\n",
    "ufosDS"
   ]
  },
  {
   "cell_type": "markdown",
   "id": "ff8a84b2",
   "metadata": {},
   "source": [
    "## Using traitlets and/or widgets build a notebook that:\n",
    "Allows the user to change the x and y fields on a scatter plot from the UFO dataset.  Here the \"fields\" are the names of the columns in the dataset.  (Do you want the user to be able to pick any 2 columns?  Or only certain columns?  Why or why not?). You must support the selection of at least 1 categorical column and at least 1 numerical column in for each of x and y.  Note: you don't have to support both axis having a categorical variable (unless you really want to!).\n",
    "Allows the user to pick their colormap.  In class we used the log of the duration in seconds as our color scaling, you can use this or something else (or if you *really* want to get fancy you can let the user decide by using a widget!). Hint: for some ideas about how to add in a colormap widget, check out the extra notes on the Michigan depth map from last week."
   ]
  },
  {
   "cell_type": "code",
   "execution_count": 6,
   "id": "ff0fcf07",
   "metadata": {},
   "outputs": [],
   "source": [
    "num = ['date', 'duration_seconds', 'report_date', 'latitude', 'longitude']\n",
    "both = ['country', 'date', 'duration_seconds', 'report_date', 'latitude', 'longitude']\n",
    "col = ['latitude', 'longitude', 'duration_seconds']"
   ]
  },
  {
   "cell_type": "code",
   "execution_count": 7,
   "id": "069a220e",
   "metadata": {
    "scrolled": false
   },
   "outputs": [
    {
     "data": {
      "application/vnd.jupyter.widget-view+json": {
       "model_id": "5ce88b37a0564f2693d43c6f22df8d02",
       "version_major": 2,
       "version_minor": 0
      },
      "text/plain": [
       "interactive(children=(Dropdown(description='x', options=('country', 'date', 'duration_seconds', 'report_date',…"
      ]
     },
     "metadata": {},
     "output_type": "display_data"
    }
   ],
   "source": [
    "@ipywidgets.interact(x = both, y = num, colormap = plt.colormaps())\n",
    "def make_plot(x, y, colormap):\n",
    "    fig, ax = plt.subplots(1,1, figsize=(4,2))\n",
    "    plt.scatter(ufosDS[x],ufosDS[y], c=np.log10(ufosDS['duration_seconds']), cmap=colormap)\n",
    "    ax.set_ylabel(y)\n",
    "    ax.set_xlabel(x)\n",
    "    plt.show()"
   ]
  },
  {
   "cell_type": "markdown",
   "id": "76adcabf",
   "metadata": {},
   "source": [
    "I initially had to make my data set smaller because when I tried to make a graph it took way too long for it to come up. Python wouldn't stop loading so I had to create a smaller sample. When I started I realized that I didn't want my user to be able to pick any 2 columns. This is because either there was too many variables on the axis for the data or because two categorical columns wouldn't create a graph. Therefore I selected certain columns where I could actually plot the data without an error and the graph looked neat. I took out columns like duration because it had way too many variables on the axis to plot. I selected country as my categorial column because it was the only categorical column that made the graph look neat and made sense. It didn't have a large amount of variables and the length of the country names were short. Columns like this were unreadable on the graph. I selected duration seconds for my color as I got an error when the color was a categorical column. Another reason why I only selected duration seconds is because when there were any words or symbols in the data of the other columns there was an error when I took the nlog10 of it. Lastly I use plt.colormaps() for my cmap and I was easily able to switch through the available color map options"
   ]
  },
  {
   "cell_type": "markdown",
   "id": "669f48d6",
   "metadata": {},
   "source": [
    "## Build a second widget that displays binned, aggregate values of a column where you can change:\n",
    "The field to \"bin\".  (Do you want the user to be able to pick any 2 columns?  Or only certain columns?  Why or why not?). You must support the selection of at least 1 categorical column and at least 1 numerical column.\n",
    "For numerical variables: The number of bins.\n"
   ]
  },
  {
   "cell_type": "code",
   "execution_count": 11,
   "id": "aa861fc4",
   "metadata": {
    "scrolled": false
   },
   "outputs": [
    {
     "data": {
      "application/vnd.jupyter.widget-view+json": {
       "model_id": "802667111c78457da8acb92762e3e8fd",
       "version_major": 2,
       "version_minor": 0
      },
      "text/plain": [
       "interactive(children=(Dropdown(description='column', options=('date', 'country', 'shape', 'latitude', 'state',…"
      ]
     },
     "metadata": {},
     "output_type": "display_data"
    }
   ],
   "source": [
    "columns_list = ['date', 'country', 'shape', 'latitude', 'state', 'report_date', 'longitude']\n",
    "@ipywidgets.interact(column = columns_list, nbins = np.arange(1,40))\n",
    "def make_scatter(column, nbins):\n",
    "    fig, ax = plt.subplots(figsize=(35, 10))\n",
    "    if (ufosDS[column].dtype != 'float64') and (ufosDS[column].dtype != 'int64'): #categorical columns\n",
    "        plt.hist(ufosDS[column], bins = nbins)\n",
    "    else: # numerical columns\n",
    "        ufosDS.hist(column=column, bins = nbins)\n",
    "    plt.show()"
   ]
  },
  {
   "cell_type": "markdown",
   "id": "f0d137a4",
   "metadata": {},
   "source": [
    "When I first started this section of the assignment I knew certain columns wouldn't be able to shown in a histogram. So I knew I had to take off certain categorical columns like city, comment, and duration as the labels on the x-axis were too long and it was no readable. I then got rid of numerical data like duration_seconds because the data was presented correctly. I initially tried to plot the data without an if or else statement but I would get an error when I tried to plot my categorical data. So I realized I needed to make an if else statement where I check if the column is a number or not and I plot the data based on the if else statement. After this it worked right away and I was able to move my number of bins and pick which column I wanted to plot. The only main issue I have is that when the number of bins is very low it is not informative."
   ]
  }
 ],
 "metadata": {
  "kernelspec": {
   "display_name": "Python 3",
   "language": "python",
   "name": "python3"
  },
  "language_info": {
   "codemirror_mode": {
    "name": "ipython",
    "version": 3
   },
   "file_extension": ".py",
   "mimetype": "text/x-python",
   "name": "python",
   "nbconvert_exporter": "python",
   "pygments_lexer": "ipython3",
   "version": "3.8.8"
  }
 },
 "nbformat": 4,
 "nbformat_minor": 5
}
